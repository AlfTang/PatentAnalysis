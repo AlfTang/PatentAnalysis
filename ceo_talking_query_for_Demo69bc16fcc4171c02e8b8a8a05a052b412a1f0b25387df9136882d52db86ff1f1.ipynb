{
  "cells": [
    {
      "cell_type": "markdown",
      "metadata": {
        "id": "view-in-github",
        "colab_type": "text"
      },
      "source": [
        "<a href=\"https://colab.research.google.com/github/AlfTang/PatentAnalysis/blob/master/ceo_talking_query_for_Demo69bc16fcc4171c02e8b8a8a05a052b412a1f0b25387df9136882d52db86ff1f1.ipynb\" target=\"_parent\"><img src=\"https://colab.research.google.com/assets/colab-badge.svg\" alt=\"Open In Colab\"/></a>"
      ]
    },
    {
      "cell_type": "markdown",
      "source": [
        "# Mount Drive"
      ],
      "metadata": {
        "id": "kFhkmtHzFIFZ"
      },
      "id": "kFhkmtHzFIFZ"
    },
    {
      "cell_type": "code",
      "source": [
        "from google.colab import drive\n",
        "drive.mount('/content/drive')"
      ],
      "metadata": {
        "colab": {
          "base_uri": "https://localhost:8080/"
        },
        "id": "D_WmSGBUBh3S",
        "outputId": "cce506f1-8457-497f-ec26-17f6a62b22fd"
      },
      "id": "D_WmSGBUBh3S",
      "execution_count": 13,
      "outputs": [
        {
          "output_type": "stream",
          "name": "stdout",
          "text": [
            "Drive already mounted at /content/drive; to attempt to forcibly remount, call drive.mount(\"/content/drive\", force_remount=True).\n"
          ]
        }
      ]
    },
    {
      "cell_type": "markdown",
      "source": [
        "# Install Required Packages"
      ],
      "metadata": {
        "id": "wFEKnfx4FSK4"
      },
      "id": "wFEKnfx4FSK4"
    },
    {
      "cell_type": "code",
      "source": [
        "!pip install openai\n",
        "!pip install llama_index\n",
        "!pip install pypdf"
      ],
      "metadata": {
        "id": "gUy7pszP_76m"
      },
      "id": "gUy7pszP_76m",
      "execution_count": null,
      "outputs": []
    },
    {
      "cell_type": "markdown",
      "id": "bb86fcc8",
      "metadata": {
        "id": "bb86fcc8"
      },
      "source": [
        "# Setup Azure OpenAI API"
      ]
    },
    {
      "cell_type": "markdown",
      "id": "7e63b2ae",
      "metadata": {
        "id": "7e63b2ae"
      },
      "source": [
        "## Setup Environment"
      ]
    },
    {
      "cell_type": "code",
      "execution_count": 4,
      "id": "1d27d8dc",
      "metadata": {
        "id": "1d27d8dc"
      },
      "outputs": [],
      "source": [
        "# Do execute this before import AzureOpenAI\n",
        "import openai\n",
        "\n",
        "openai.api_type = \"azure\"\n",
        "openai.api_key = \"792188d616b4446dabfefde0821917b7\"\n",
        "openai.api_base = \"https://chairman-azureopenai-eastus2.openai.azure.com/\"\n",
        "openai.api_version = \"2023-08-01-preview\""
      ]
    },
    {
      "cell_type": "markdown",
      "id": "2685ca2a",
      "metadata": {
        "id": "2685ca2a"
      },
      "source": [
        "## Create Model Instance"
      ]
    },
    {
      "cell_type": "code",
      "execution_count": 5,
      "id": "75fb6cb6",
      "metadata": {
        "id": "75fb6cb6"
      },
      "outputs": [],
      "source": [
        "from llama_index.llms import AzureOpenAI\n",
        "from llama_index.llms import ChatMessage"
      ]
    },
    {
      "cell_type": "code",
      "execution_count": 6,
      "id": "de66a4e9",
      "metadata": {
        "id": "de66a4e9"
      },
      "outputs": [],
      "source": [
        "# Do NOT Change the engine and model\n",
        "llm = AzureOpenAI(engine=\"gpt35turbo\", model=\"gpt-35-turbo-16k\", temperature=0.1)"
      ]
    },
    {
      "cell_type": "markdown",
      "id": "e38fccf0",
      "metadata": {
        "id": "e38fccf0"
      },
      "source": [
        "# ReAct Agent with Query Engine Tools"
      ]
    },
    {
      "cell_type": "markdown",
      "id": "eb70c232",
      "metadata": {
        "id": "eb70c232"
      },
      "source": [
        "## Build Query Engine Tools"
      ]
    },
    {
      "cell_type": "code",
      "execution_count": 7,
      "id": "c81fead1",
      "metadata": {
        "id": "c81fead1"
      },
      "outputs": [],
      "source": [
        "from langchain.embeddings import OpenAIEmbeddings\n",
        "from llama_index import LangchainEmbedding\n",
        "\n",
        "# create llm embedding instance to convert natural language to vector\n",
        "embedding_llm = LangchainEmbedding(\n",
        "    OpenAIEmbeddings(\n",
        "        model=\"text-embedding-ada-002\",\n",
        "        deployment=\"text-embedding-ada-002\",\n",
        "        openai_api_key=openai.api_key,\n",
        "        openai_api_base=openai.api_base,\n",
        "        openai_api_type=openai.api_type,\n",
        "        openai_api_version=openai.api_version,\n",
        "    ),\n",
        "    embed_batch_size=1,\n",
        ")"
      ]
    },
    {
      "cell_type": "code",
      "execution_count": 8,
      "id": "30d9e9f7",
      "metadata": {
        "id": "30d9e9f7"
      },
      "outputs": [],
      "source": [
        "from llama_index import (\n",
        "    SimpleDirectoryReader,\n",
        "    VectorStoreIndex,\n",
        "    StorageContext,\n",
        "    ServiceContext,\n",
        "    load_index_from_storage,\n",
        ")\n",
        "\n",
        "from llama_index.tools import QueryEngineTool, ToolMetadata"
      ]
    },
    {
      "cell_type": "code",
      "execution_count": 9,
      "id": "dc8ef202",
      "metadata": {
        "colab": {
          "base_uri": "https://localhost:8080/"
        },
        "id": "dc8ef202",
        "outputId": "0dc5a89b-c49f-4edd-a704-0508fe1cfa7e"
      },
      "outputs": [
        {
          "output_type": "stream",
          "name": "stderr",
          "text": [
            "[nltk_data] Downloading package punkt to /tmp/llama_index...\n",
            "[nltk_data]   Unzipping tokenizers/punkt.zip.\n"
          ]
        }
      ],
      "source": [
        "from llama_index import set_global_service_context\n",
        "\n",
        "service_context = ServiceContext.from_defaults(\n",
        "    llm=llm,\n",
        "    embed_model=embedding_llm,\n",
        ")\n",
        "\n",
        "set_global_service_context(service_context)"
      ]
    },
    {
      "cell_type": "code",
      "execution_count": 17,
      "id": "9272b732",
      "metadata": {
        "id": "9272b732"
      },
      "outputs": [],
      "source": [
        "try:\n",
        "    storage_context = StorageContext.from_defaults(persist_dir=\"/content/drive/MyDrive/Colab Notebooks/storage/ceo_talking\")\n",
        "    ceo_talking_index = load_index_from_storage(storage_context)\n",
        "\n",
        "    index_loaded = True\n",
        "except:\n",
        "    index_loaded = False"
      ]
    },
    {
      "cell_type": "code",
      "source": [
        "!pwd"
      ],
      "metadata": {
        "colab": {
          "base_uri": "https://localhost:8080/"
        },
        "id": "exmYYlbyD0IN",
        "outputId": "a159b1d4-02fd-4733-edb7-317f4f91961b"
      },
      "id": "exmYYlbyD0IN",
      "execution_count": 16,
      "outputs": [
        {
          "output_type": "stream",
          "name": "stdout",
          "text": [
            "/content\n"
          ]
        }
      ]
    },
    {
      "cell_type": "code",
      "execution_count": 20,
      "id": "0be0078a",
      "metadata": {
        "id": "0be0078a"
      },
      "outputs": [],
      "source": [
        "if not index_loaded:\n",
        "    # load data\n",
        "    ceo_talking_docs = SimpleDirectoryReader(\n",
        "        input_files=[\"/content/drive/MyDrive/Colab Notebooks/劉董人生經驗20221108v0.3.pdf\"]\n",
        "    ).load_data()\n",
        "\n",
        "    # build index\n",
        "    ceo_talking_index = VectorStoreIndex.from_documents(ceo_talking_docs)\n",
        "\n",
        "    # persist index\n",
        "    ceo_talking_index.storage_context.persist(persist_dir=\"./storage/ceo_talking\")\n",
        ""
      ]
    },
    {
      "cell_type": "code",
      "execution_count": 21,
      "id": "3ad0417e",
      "metadata": {
        "id": "3ad0417e"
      },
      "outputs": [],
      "source": [
        "ceo_talking_engine = ceo_talking_index.as_query_engine(similarity_top_k=10)\n"
      ]
    },
    {
      "cell_type": "markdown",
      "id": "8984ce5b",
      "metadata": {
        "id": "8984ce5b"
      },
      "source": [
        "# Query test"
      ]
    },
    {
      "cell_type": "code",
      "execution_count": 23,
      "id": "8d379000",
      "metadata": {
        "colab": {
          "base_uri": "https://localhost:8080/"
        },
        "id": "8d379000",
        "outputId": "2f73f8fa-07f6-42ad-8a4d-e67067798476"
      },
      "outputs": [
        {
          "output_type": "stream",
          "name": "stdout",
          "text": [
            "蒐集資料，然後進行資料分析找出對策，是成功創業的方法之一。在創業的過程中，蒐集足夠的資料並透過資料分析來了解市場需求和競爭環境，可以幫助創業者制定有效的策略和解決方案，增加成功的機會。此外，也需要對創業的時間點和團隊進行適切的把握，這些都是創業成功的重要要素。\n"
          ]
        }
      ],
      "source": [
        "#Q1.1\n",
        "response = ceo_talking_engine.query(\"成功創業的方法?\")\n",
        "print(response)"
      ]
    },
    {
      "cell_type": "code",
      "execution_count": 24,
      "id": "6a702f3e",
      "metadata": {
        "colab": {
          "base_uri": "https://localhost:8080/"
        },
        "id": "6a702f3e",
        "outputId": "ee0df34f-0fd2-4c2a-c237-bfe48fb76fe3"
      },
      "outputs": [
        {
          "output_type": "stream",
          "name": "stdout",
          "text": [
            "1. 必須有動機和熱情：創業不僅僅是因為你知道怎麼做，而是因為你有一個想要實現的目標，並且對此充滿熱情和動力。\n",
            "2. 選對時機：成功的創業需要抓住適當的時機。時機的選擇對於創業的成功至關重要。\n",
            "3. 團隊合作：擁有一個強大的團隊是創業成功的關鍵。團隊成員應該具備相應的技能和經驗，並且能夠共同努力實現共同的目標。\n",
            "4. 蒐集資料：在創業之前，要蒐集足夠的資料，並進行資料分析，以找出解決問題的對策。這樣才能做出明智的決策，增加成功的機會。\n",
            "5. 分析問題：在創業過程中，要學會分析問題，找出解決問題的方法和創新的解決方案。\n",
            "6. 專利保護：對於有創新的想法和技術，要及時申請專利保護，以保護自己的創業成果。\n",
            "7. 了解市場需求：要了解客戶的需求和市場趨勢，並根據這些信息來開發產品或提供服務。\n",
            "8. 買賣技巧：在創業過程中，要善於買賣，找到有價值的產品或服務，並將其銷售給目標客戶。\n",
            "9. 目標設定：設定明確的目標，並制定相應的計劃和策略，以實現這些目標。\n",
            "10. 持續學習和改進：創業是一個不斷學習和成長的過程，要不斷改進自己的技能和知識，以應對市場變化和挑戰。\n"
          ]
        }
      ],
      "source": [
        "#Q1.2\n",
        "response = ceo_talking_engine.query(\"成功創業的方法? 請列點說明\")\n",
        "print(response)"
      ]
    },
    {
      "cell_type": "code",
      "execution_count": null,
      "id": "40948a9a",
      "metadata": {
        "id": "40948a9a",
        "outputId": "a0de9efc-158f-4bfa-f5c2-3f2ac7681d66"
      },
      "outputs": [
        {
          "name": "stdout",
          "output_type": "stream",
          "text": [
            "劉揚偉的工作經歷包括在鴻海集團擔任電腦主機板事業負責人，並在該公司一直工作到現在。他也曾在宏碁擔任設計工程師，並在該公司取得了不錯的成果。此外，他創立了聯陽半導體公司，並在該公司做了一些重要的工作，如開發 ADSL 技術。他也曾在美國的 USC（南加大）深造，學習了許多與電腦相關的知識，如 Switching Theory、VLSI Design等。他在研究所期間也跟了很多優秀的教授學習。\n"
          ]
        }
      ],
      "source": [
        "#Q2.1\n",
        "response = ceo_talking_engine.query(\"劉揚偉的工作經歷和學習經歷?\")\n",
        "print(response)"
      ]
    },
    {
      "cell_type": "code",
      "execution_count": null,
      "id": "9b780eb0",
      "metadata": {
        "id": "9b780eb0",
        "outputId": "5647c459-2269-4675-af08-081eada2089f"
      },
      "outputs": [
        {
          "name": "stdout",
          "output_type": "stream",
          "text": [
            "1. 劉揚偉在大學時期主修電子物理，但他的真正專業是音響。\n",
            "2. 畢業後，他先在台北做音響設計工程師，後來轉行做電腦維修工程師。\n",
            "3. 他在HP Taiwan擔任電腦維修工程師，並在此期間自學了許多電腦相關知識。\n",
            "4. 他進入宏碁擔任設計工程師，並展現出優秀的除錯能力。\n",
            "5. 劉揚偉後來進入美國南加州大學（USC）深造，學習了許多電腦相關課程，包括Switching Theory、VLSI Design等。\n",
            "6. 他在USC的第一份工作是在操作系統（OS）相關的領域。\n",
            "7. 劉揚偉在美國的求學經歷對他後來的創業和就業有很深遠的影響。\n",
            "8. 他在美國成立了IC設計公司，並在此期間展示了優秀的技術能力。\n",
            "9. 劉揚偉在美國的求學期間也學習了許多與編譯器、作業系統、資料庫等相關的知識。\n",
            "10. 他在美國的求學經歷讓他對電腦領域有更深入的了解，並為他未來的職業發展奠定了基礎。\n"
          ]
        }
      ],
      "source": [
        "#Q2.2\n",
        "response = ceo_talking_engine.query(\"劉揚偉的工作經歷和學習經歷? 請以數字列點說明\")\n",
        "print(response)"
      ]
    },
    {
      "cell_type": "code",
      "execution_count": null,
      "id": "ffbdd322",
      "metadata": {
        "id": "ffbdd322",
        "outputId": "874e9f1d-5ad6-44f1-f227-d192f5555356"
      },
      "outputs": [
        {
          "name": "stdout",
          "output_type": "stream",
          "text": [
            "要評估一個新的產業是否值得公司投資，有幾個關鍵的評估標準可以考慮。首先，要考慮該產業的規模，即市場的潛在大小。其次，要關注該產業的年複合成長率（CAGR），即該產業在未來幾年內的預期增長率。最後，要考慮公司在該產業中的競爭優勢，即公司是否具有能夠在該產業中成功競爭的特殊能力或資源。這些評估標準可以幫助經營者判斷一個新的產業是否值得公司投資。\n"
          ]
        }
      ],
      "source": [
        "#Q3.1\n",
        "response = ceo_talking_engine.query(\"身為一個公司的經營者，正在評估新的產業的投資機會，如何評估一個新的產業是否值得公司投資?\")\n",
        "print(response)"
      ]
    },
    {
      "cell_type": "code",
      "execution_count": null,
      "id": "8326d2ff",
      "metadata": {
        "id": "8326d2ff",
        "outputId": "f68ab5ce-33e3-4e12-da0d-1fc5a0c41b6f"
      },
      "outputs": [
        {
          "name": "stdout",
          "output_type": "stream",
          "text": [
            "1. 首先要考慮產業的規模，即TAM（Total Addressable Market）要夠大。\n",
            "2. 其次要考慮產業的年複合成長率（CAGR），一般要選擇高於15%以上的產業。\n",
            "3. 最後要確保產業符合公司的競爭優勢，即能夠發揮公司的長處。\n",
            "4. 除了以上三個條件，還要考慮政府的政策對產業的影響。\n",
            "5. 在選擇產業後，還需要評估產品線的潛力，包括能否賺到足夠的利潤（GP要達到20%以上）以及投資回報率（IRR要大於15%）。\n",
            "6. 最後，要注意搜集足夠的市場情報，並與顧問公司合作進行更深入的研究，以做出明智的投資決策。\n"
          ]
        }
      ],
      "source": [
        "#Q3.2\n",
        "response = ceo_talking_engine.query(\"身為一個公司的經營者，正在評估新的產業的投資機會，如何評估一個新的產業是否值得公司投資?  請以數字列點說明\")\n",
        "print(response)"
      ]
    },
    {
      "cell_type": "code",
      "execution_count": null,
      "id": "e2e3e6da",
      "metadata": {
        "id": "e2e3e6da",
        "outputId": "dce428f4-7c78-446c-823e-9b1634ec30a8"
      },
      "outputs": [
        {
          "name": "stdout",
          "output_type": "stream",
          "text": [
            "作為一個團隊的主管，要做好管理和領導，有幾個重要的方面需要注意。首先，要懂得分工，讓每個團隊成員發揮他們所擅長的能力。同時，要能夠分享知識和收穫，這樣可以提升團隊的競爭力。其次，作為領導者，要具備洞見和能力，能夠對問題有深入的了解，並知道如何分配工作和分工。同時，要能夠分享成果和獎勵，讓團隊成員感到滿意，並願意跟隨你的領導。此外，要注意溝通，避免給團隊成員帶來驚訝，並讓他們了解工作的緊急性和重要性。最後，要有使命感，願意拚命努力來達成目標。這些都是做好管理和領導的基本要素。\n"
          ]
        }
      ],
      "source": [
        "#Q4.1\n",
        "response = ceo_talking_engine.query(\"身為一個團隊的主管，如何做好管理和領導?\")\n",
        "print(response)"
      ]
    },
    {
      "cell_type": "code",
      "execution_count": null,
      "id": "af57154d",
      "metadata": {
        "id": "af57154d",
        "outputId": "1da35d9b-ebf5-47d5-fc0c-c7e90b0d1aa9"
      },
      "outputs": [
        {
          "name": "stdout",
          "output_type": "stream",
          "text": [
            "1. 分工：作為主管，要善於分工，讓團隊成員發揮各自的專長。\n",
            "2. 分享：要善於分享知識和收穫，這樣可以提升團隊的競爭力。\n",
            "3. 目標訂定：要了解並資深的人才能夠訂定目標。\n",
            "4. 洞見和分工：作為一個領導者，要有洞見，知道如何分工。\n",
            "5. 分享和獎勵：要分享成果並給予獎勵，讓團隊滿意，這樣下次有問題時，團隊會再次找你。\n",
            "6. 管理第一件事是分工：要善於分工，讓每個人都能發揮所長。\n",
            "7. 使命感和努力：作為一個好的領導者，要有使命感，並願意拚命努力達成目標。\n",
            "8. 理想、宣揚理想、敏銳的觀察力和毅力：好的領導者需要具備這四個能力。\n",
            "9. 瞭解和掌握不同特質的人：作為領導者，要能夠處理不同特質的人和解決人際衝突。\n",
            "10. 領導統御能力：作為領導者，要不斷提升領導統御能力，能夠有效地管理和領導團隊。\n",
            "11. 溝通和避免給大家驚喜：在推行公司政策時，要做好溝通，避免給團隊成員帶來驚喜。\n",
            "12. 瞭解產品需求和客戶需求：作為領導者，要熟悉產品的需求和客戶對產品的需求，並能夠將客戶心裡的想法轉化為需求。\n"
          ]
        }
      ],
      "source": [
        "#Q4.2\n",
        "response = ceo_talking_engine.query(\"身為一個團隊的主管，如何做好管理和領導? 請以數字列點說明\")\n",
        "print(response)"
      ]
    },
    {
      "cell_type": "code",
      "execution_count": null,
      "id": "83bba678",
      "metadata": {
        "id": "83bba678",
        "outputId": "edfcfa0d-8a9e-497e-8a8c-3ec9263287ea"
      },
      "outputs": [
        {
          "name": "stdout",
          "output_type": "stream",
          "text": [
            "When giving an oral report to the chairman, it is important to be clear and concise. Focus on the key points and structure your presentation in a logical manner. Make sure to communicate any important information or updates, and avoid surprising the chairman with unexpected news. It is also important to demonstrate a sense of urgency and importance in your report. Additionally, consider the chairman's perspective and tailor your report to address their specific concerns or interests.\n"
          ]
        }
      ],
      "source": [
        "#Q5.1\n",
        "response = ceo_talking_engine.query(\"跟董事長口頭報告要注意什麼?\")\n",
        "print(response)"
      ]
    },
    {
      "cell_type": "code",
      "execution_count": null,
      "id": "5eb0caf4",
      "metadata": {
        "id": "5eb0caf4",
        "outputId": "b7b25dd9-968b-4115-90f6-e2566de4eca3"
      },
      "outputs": [
        {
          "name": "stdout",
          "output_type": "stream",
          "text": [
            "1. 在口頭報告中要注意溝通，避免給董事長帶來驚訝。\n",
            "2. 要有緊迫感和重要性感，讓董事長感受到工作的重要性。\n",
            "3. 在報告中要提到公司的政策，並避免給董事長帶來驚訝。\n",
            "4. 要有清晰的結構，讓報告內容有邏輯性。\n",
            "5. 在報告中要提到目標的決策，並提供清晰的證據支持。\n",
            "6. 在報告中要提到市場趨勢的研究，並透過顧問公司搜集足夠的情報。\n",
            "7. 在報告中要提到客戶需求的了解，並強調產品經理的重要性。\n",
            "8. 在報告中要提到分工和分享的能力，並強調領導者的重要角色。\n",
            "9. 在報告中要提到策略的制定，並強調耍心機和搜集正確情報的重要性。\n",
            "10. 在報告中要提到信任的建立，並強調對人格和能力的信任。\n",
            "11. 在報告中要提到買賣的重要性，並強調產品經理和供應鏈的角色。\n",
            "12. 在報告中要提到客戶的需求和市場趨勢的了解，並強調產品經理的重要性。\n"
          ]
        }
      ],
      "source": [
        "#Q5.2\n",
        "response = ceo_talking_engine.query(\"跟董事長口頭報告要注意什麼?  請以數字列點說明\")\n",
        "print(response)"
      ]
    },
    {
      "cell_type": "code",
      "execution_count": null,
      "id": "8dd3f081",
      "metadata": {
        "id": "8dd3f081",
        "outputId": "5ee0ba2f-3460-47cd-fccc-c6e017229ae0"
      },
      "outputs": [
        {
          "name": "stdout",
          "output_type": "stream",
          "text": [
            "The successful method for starting a new department in a company is to gather data and then use the \"Divide & Conquer\" approach. It is important to collect enough information and analyze it to find strategies and solutions. Additionally, timing and having a strong team are two key factors for entrepreneurial success. By understanding the right timing and assembling a capable team, the chances of success are increased.\n"
          ]
        }
      ],
      "source": [
        "#Q6.1\n",
        "response = ceo_talking_engine.query(\"公司新部門創業的成功方法?\")\n",
        "print(response)"
      ]
    },
    {
      "cell_type": "code",
      "execution_count": null,
      "id": "5a4f6bb6",
      "metadata": {
        "id": "5a4f6bb6",
        "outputId": "ef1efeda-48ad-4f4e-bc22-fa782db30a04"
      },
      "outputs": [
        {
          "name": "stdout",
          "output_type": "stream",
          "text": [
            "1. 確定部門的規模要足夠大，以便有足夠的資源和市場機會。\n",
            "2. 考慮年複合成長率（CAGR），要確保足夠大，以確保新部門的長期成功。\n",
            "3. 確定部門的競爭優勢，以區分自己與競爭對手。\n",
            "4. 蒐集足夠的資料，進行資料分析，找出對策和解決方案。\n",
            "5. 分工和分享工作，確保組織內部的協作和效率。\n",
            "6. 確定目標和策略，並根據目標制定計劃和行動。\n",
            "7. 持續了解客戶需求，並根據需求調整產品和服務。\n",
            "8. 建立良好的供應鏈和買賣關係，確保產品的供應和交付。\n",
            "9. 不斷學習和改進，適應市場變化和技術發展。\n",
            "10. 確保組織精簡化，適當分工和管理人力資源。\n"
          ]
        }
      ],
      "source": [
        "#Q6.2\n",
        "response = ceo_talking_engine.query(\"公司新部門創業的成功方法? 請以數字列點說明\")\n",
        "print(response)"
      ]
    },
    {
      "cell_type": "code",
      "execution_count": null,
      "id": "f19d193a",
      "metadata": {
        "id": "f19d193a"
      },
      "outputs": [],
      "source": []
    }
  ],
  "metadata": {
    "kernelspec": {
      "display_name": "Python 3 (ipykernel)",
      "language": "python",
      "name": "python3"
    },
    "language_info": {
      "codemirror_mode": {
        "name": "ipython",
        "version": 3
      },
      "file_extension": ".py",
      "mimetype": "text/x-python",
      "name": "python",
      "nbconvert_exporter": "python",
      "pygments_lexer": "ipython3",
      "version": "3.8.17"
    },
    "toc": {
      "base_numbering": 1,
      "nav_menu": {},
      "number_sections": true,
      "sideBar": true,
      "skip_h1_title": false,
      "title_cell": "Table of Contents",
      "title_sidebar": "Contents",
      "toc_cell": false,
      "toc_position": {
        "height": "calc(100% - 180px)",
        "left": "10px",
        "top": "150px",
        "width": "209.913px"
      },
      "toc_section_display": true,
      "toc_window_display": true
    },
    "colab": {
      "provenance": [],
      "include_colab_link": true
    }
  },
  "nbformat": 4,
  "nbformat_minor": 5
}